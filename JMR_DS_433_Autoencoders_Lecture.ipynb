{
  "nbformat": 4,
  "nbformat_minor": 0,
  "metadata": {
    "accelerator": "GPU",
    "colab": {
      "provenance": [],
      "include_colab_link": true
    },
    "kernelspec": {
      "display_name": "Python 3",
      "language": "python",
      "name": "python3"
    },
    "language_info": {
      "codemirror_mode": {
        "name": "ipython",
        "version": 3
      },
      "file_extension": ".py",
      "mimetype": "text/x-python",
      "name": "python",
      "nbconvert_exporter": "python",
      "pygments_lexer": "ipython3",
      "version": "3.8.5"
    }
  },
  "cells": [
    {
      "cell_type": "markdown",
      "metadata": {
        "id": "view-in-github",
        "colab_type": "text"
      },
      "source": [
        "<a href=\"https://colab.research.google.com/github/Rabidgeek/Sprint15/blob/main/JMR_DS_433_Autoencoders_Lecture.ipynb\" target=\"_parent\"><img src=\"https://colab.research.google.com/assets/colab-badge.svg\" alt=\"Open In Colab\"/></a>"
      ]
    },
    {
      "cell_type": "markdown",
      "metadata": {
        "id": "rr7YTT3AcXaN"
      },
      "source": [
        "*Unit 4, Sprint 3, Module 3*\n",
        "\n",
        "---"
      ]
    },
    {
      "cell_type": "markdown",
      "metadata": {
        "id": "3uqI18GbcXaO"
      },
      "source": [
        "# Autoencoders\n",
        "\n",
        "> An **autoencoder** is a type of artificial neural network used to learn efficient data representations in an unsupervised manner. The aim of an autoencoder is to learn a representation (coding) for a set of data, by training the network to capture the signal and ignore the noise, so as to reconstruct the data as well as possible. Autoencoders consist of two parts: the **encoder** which transforms the data to a **coding** (often -- but not always -- of lower dimension), and the **decoder**, which reconstructs the original data from its **coding**. "
      ]
    },
    {
      "cell_type": "markdown",
      "metadata": {
        "id": "VWvVBDJTcXaP"
      },
      "source": [
        "## Learning Objectives\n",
        "*At the end of the lecture you should be to*:\n",
        "* <a href=\"#p1\">Part 1</a>: Describe the components of an autoencoder\n",
        "* <a href=\"#p2\">Part 2</a>: Apply an autoencoder to an image reconstruction problem\n",
        "* <a href=\"#p3\">Part 3</a>: Apply an autoencoder to a basic information retrieval problem, i.e. a \"recommender system\"\n",
        "\n",
        "__Problem:__ Can we embed images in vectors of a specified size, as spacy does for words and documents?\n",
        "\n",
        "__Solution:__ Use an autoencoder\n",
        "\n",
        "Why would we want to represent an image as a fixed-sized vector? \n",
        "\n",
        "* __Information Retrieval__\n",
        "    - [Reverse Image Search](https://en.wikipedia.org/wiki/Reverse_image_search)\n",
        "    - [Recommendation Systems - Content Based Filtering](https://en.wikipedia.org/wiki/Recommender_system#Content-based_filtering)\n",
        "* __Dimensionality Reduction__\n",
        "    - [Feature Extraction](https://www.kaggle.com/c/vsb-power-line-fault-detection/discussion/78285)\n",
        "    - [Manifold Learning](https://en.wikipedia.org/wiki/Nonlinear_dimensionality_reduction)\n",
        "\n",
        "We've already encountered *representation learning* when we modeled text documents via 300-dimensional word embeddings during our NLP week. Today we're going to achieve a similiar goal on images using *autoencoders*. An autoencoder is a neural network that is trained to attempt to copy its input to its output. Usually they are restricted in ways that allow them to copy only approximately. The model often learns useful properties of the data, because it is forced to prioritize which aspects of the input should be copied. The properties of autoencoders have made them an important part of modern generative modeling approaches. Autoencoders a special case of feed-forward networks (the kind we've been studying); the weights and biases are determined by backpropagation and gradient descent. "
      ]
    },
    {
      "cell_type": "markdown",
      "metadata": {
        "id": "b1i4mE8XcXaP"
      },
      "source": [
        "# 1. Autoencoder Architecture (Learn)\n",
        "<a id=\"p1\"></a>"
      ]
    },
    {
      "cell_type": "markdown",
      "metadata": {
        "id": "zrjRqfCMcXaQ"
      },
      "source": [
        "## Overview\n",
        "\n",
        "The *encoder* compresses the input data and the *decoder* does the reverse to produce the uncompressed version of the data to create a reconstruction of the input as accurately as possible:\n",
        "\n",
        "<img src='https://miro.medium.com/max/1400/1*44eDEuZBEsmG_TCAKRI3Kw@2x.png' width=800/>\n",
        "\n",
        "The learning process is, as usual, minimizing a loss function: \n",
        "$ L(x, g(f(x))) $\n",
        "\n",
        "- $x$ is the input\n",
        "- $f$ is the encoder function, $f(x)$ is the coding\n",
        "- $g$ is the decoder function, g(f(x))) is the reconstructed input\n",
        "- $L$ is a loss function that  penalizes the reconstructed input for being dissimiliar from $x$ (such as mean squared error)\n"
      ]
    },
    {
      "cell_type": "markdown",
      "metadata": {
        "id": "wifP1LkflK0c"
      },
      "source": [
        "![](https://miro.medium.com/max/3110/0*uq2_ZipB9TqI9G_k)"
      ]
    },
    {
      "cell_type": "markdown",
      "metadata": {
        "id": "Ok2R0X_tcXaQ"
      },
      "source": [
        "## Follow Along\n",
        "We'll use an autoencoder to compress and reconstruct images from the `quickdraw10` data set.\n",
        "### Simple Autoencoder"
      ]
    },
    {
      "cell_type": "markdown",
      "metadata": {
        "id": "Gr963aAy4O1O"
      },
      "source": [
        "#### Imports"
      ]
    },
    {
      "cell_type": "code",
      "metadata": {
        "id": "4QaZ8snDhGTZ"
      },
      "source": [
        "# imports \n",
        "import tensorflow as tf\n",
        "import numpy as np\n",
        "import os\n",
        "import matplotlib.pyplot as plt\n",
        "%load_ext tensorboard\n",
        "from sklearn.utils import shuffle\n",
        "from sklearn.neighbors import NearestNeighbors\n",
        "\n",
        "from tensorflow.keras.models import Model\n",
        "from tensorflow.keras.callbacks import EarlyStopping, TensorBoard\n",
        "from tensorflow.keras.layers import Input, Dense, Conv2D, MaxPooling2D, UpSampling2D, Flatten, Reshape\n",
        "from tensorflow.keras.metrics import mean_squared_error\n",
        "\n",
        "\n"
      ],
      "execution_count": 1,
      "outputs": []
    },
    {
      "cell_type": "markdown",
      "metadata": {
        "id": "bGz7BPKb4U_3"
      },
      "source": [
        "#### Get the the `quickdraw` data set"
      ]
    },
    {
      "cell_type": "code",
      "metadata": {
        "colab": {
          "base_uri": "https://localhost:8080/"
        },
        "id": "jyb24VA-h08O",
        "outputId": "9f42f327-ec14-4c0d-d60d-5879b614d7b0"
      },
      "source": [
        "# get the quickdraw data set\n",
        "URL_ = \"https://github.com/LambdaSchool/DS-Unit-4-Sprint-2-Neural-Networks/blob/main/quickdraw10.npz?raw=true\"\n",
        "\n",
        "# create directory to store images that we'll we will be using to train auto-encoders \n",
        "path_to_downloaded_npz_file = tf.keras.utils.get_file('./quickdraw10.npz', origin=URL_, extract=False)\n",
        "data = np.load(path_to_downloaded_npz_file)\n",
        "\n",
        "x_train = data['arr_0']\n",
        "y_train = data['arr_1']\n",
        "\n",
        "print(x_train.shape)\n",
        "print(y_train.shape)"
      ],
      "execution_count": 2,
      "outputs": [
        {
          "output_type": "stream",
          "name": "stdout",
          "text": [
            "Downloading data from https://github.com/LambdaSchool/DS-Unit-4-Sprint-2-Neural-Networks/blob/main/quickdraw10.npz?raw=true\n",
            "25421363/25421363 [==============================] - 0s 0us/step\n",
            "(100000, 784)\n",
            "(100000,)\n"
          ]
        }
      ]
    },
    {
      "cell_type": "code",
      "metadata": {
        "id": "1osYVpTFlK0g",
        "colab": {
          "base_uri": "https://localhost:8080/"
        },
        "outputId": "b1de1da6-c8fc-4c78-ed57-a7a41ee8a5fe"
      },
      "source": [
        "# 28x28 images are already flattened into 784-dimensional row vectors \n",
        "x_train[0].shape"
      ],
      "execution_count": 3,
      "outputs": [
        {
          "output_type": "execute_result",
          "data": {
            "text/plain": [
              "(784,)"
            ]
          },
          "metadata": {},
          "execution_count": 3
        }
      ]
    },
    {
      "cell_type": "markdown",
      "metadata": {
        "id": "DeW_qmWer2MA"
      },
      "source": [
        "`quickdraw10` class names"
      ]
    },
    {
      "cell_type": "code",
      "metadata": {
        "id": "muNdhQdbiLlk"
      },
      "source": [
        "class_names = ['apple',\n",
        " 'anvil',\n",
        " 'airplane',\n",
        " 'banana',\n",
        " 'The Eiffel Tower',\n",
        " 'The Mona Lisa',\n",
        " 'The Great Wall of China',\n",
        " 'alarm clock',\n",
        " 'ant',\n",
        " 'asparagus']"
      ],
      "execution_count": 4,
      "outputs": []
    },
    {
      "cell_type": "markdown",
      "metadata": {
        "id": "fHtNn_o4r7y5"
      },
      "source": [
        "Plot some `quickdraw10` images, with their labels"
      ]
    },
    {
      "cell_type": "code",
      "metadata": {
        "colab": {
          "base_uri": "https://localhost:8080/",
          "height": 400
        },
        "id": "U8qMbTQoiNUz",
        "outputId": "f6667f22-d106-442f-db80-fa2b08d1ed98"
      },
      "source": [
        "plt.figure(figsize=(10,5))\n",
        "start = 0\n",
        "\n",
        "# helper function used to plot images \n",
        "for num, name in enumerate(class_names):\n",
        "    plt.subplot(2,5, num+1)\n",
        "    plt.xticks([])\n",
        "    plt.yticks([])\n",
        "    plt.grid(False)\n",
        "    #plt.imshow(x_train[start].reshape(28,28), cmap=plt.cm.binary)\n",
        "    plt.imshow(x_train[start].reshape(28,28), cmap=plt.cm.gray)\n",
        "    plt.xlabel(name)\n",
        "    start += 10000\n",
        "plt.show()"
      ],
      "execution_count": 5,
      "outputs": [
        {
          "output_type": "display_data",
          "data": {
            "text/plain": [
              "<Figure size 1000x500 with 10 Axes>"
            ],
            "image/png": "[encoded data removed]"
          },
          "metadata": {}
        }
      ]
    },
    {
      "cell_type": "markdown",
      "metadata": {
        "id": "8YOkk-_klK0i"
      },
      "source": [
        "### Prepare the data for modeling"
      ]
    },
    {
      "cell_type": "code",
      "metadata": {
        "id": "DuqkZsIJlK0i",
        "colab": {
          "base_uri": "https://localhost:8080/"
        },
        "outputId": "885e7f50-057f-48bd-876c-026d149badb1"
      },
      "source": [
        "\n",
        "# It's often a good idea to shuffle the training data before using it to build a model\n",
        "x_train, y_train = shuffle(x_train, y_train)\n",
        "\n",
        "# Normalize \n",
        "# scale the pixel values between 0 and 1 by dividing by the largest pixel value (i.e. 255)\n",
        "max_pixel_value = x_train.max()\n",
        "print(f'maximum pixel value = {max_pixel_value}')\n",
        "x_train = x_train.astype('float32') / max_pixel_value\n",
        "print(x_train.shape)"
      ],
      "execution_count": 6,
      "outputs": [
        {
          "output_type": "stream",
          "name": "stdout",
          "text": [
            "maximum pixel value = 255\n",
            "(100000, 784)\n"
          ]
        }
      ]
    },
    {
      "cell_type": "code",
      "metadata": {
        "id": "hLvriHgllK0j"
      },
      "source": [
        "# Check that our pixel values are indeed normalized \n",
        "assert x_train.min() == 0.0\n",
        "assert x_train.max() == 1.0"
      ],
      "execution_count": 7,
      "outputs": []
    },
    {
      "cell_type": "markdown",
      "metadata": {
        "id": "XpUPDdNI0xyH"
      },
      "source": [
        "### Build the simple autoencoder\n",
        "Notice that for the output layer below, we are \"borrowing\" the same structure and<br> \n",
        "the same loss function (cross-entropy) as the output of a binary class problem! <br>\n",
        "\n",
        "A neuron with a sigmoid activation function outputs a single number -- the probability of being in the positive class. <br>\n",
        "\n",
        "But normalized pixel values, like probabilities, are also on the interval $[0, 1]$. <br>\n",
        "We can interpret the probability outputs as pixel values: the \"brightness\", or \"lit-up-ness\" of a pixel. <br>\n",
        "\n",
        "Long story short, we can use $784$ neurons, each with a sigmoid activation function to produce our output pixel values."
      ]
    },
    {
      "cell_type": "code",
      "metadata": {
        "id": "6DdClvN6lK0j"
      },
      "source": [
        "### build simple auto-encoder\n",
        "\n",
        "# save input data dims to variable \n",
        "input_dims = x_train.shape[1]\n",
        "shape = (input_dims,)\n",
        "\n",
        "# decoder output size (i.e. 784 dims)\n",
        "decoding_size = input_dims\n",
        "\n",
        "# encoder output size\n",
        "coding_size = 64\n",
        "\n",
        "# Create input layer \n",
        "inputs = Input(shape=shape)\n",
        "\n",
        "# Create encoder layer \n",
        "encoded = Dense(coding_size, activation=\"relu\")(inputs)\n",
        "\n",
        "# Create decoder layer \n",
        "decoded = Dense(decoding_size,activation=\"sigmoid\")(encoded)\n",
        "#decoded = Dense(decoding_size)(encoded)#,activation=\"sigmoid\")\n",
        "\n",
        "# bring it all together using the Functional API\n",
        "autoencoder_simple = Model(inputs=inputs, outputs=decoded, name=\"simple_autoencoder\")"
      ],
      "execution_count": 8,
      "outputs": []
    },
    {
      "cell_type": "markdown",
      "metadata": {
        "id": "xeHyENfq06I4"
      },
      "source": [
        "### Compile the simple autoencoder"
      ]
    },
    {
      "cell_type": "code",
      "metadata": {
        "id": "Zf3V-kwOcXad"
      },
      "source": [
        "autoencoder_simple.compile(optimizer='nadam', loss='binary_crossentropy', metrics = [mean_squared_error])\n",
        "#autoencoder_simple.compile(optimizer='nadam', loss='mse', metrics = [mean_squared_error])"
      ],
      "execution_count": 9,
      "outputs": []
    },
    {
      "cell_type": "code",
      "metadata": {
        "id": "0q3bjg0DlK0k",
        "colab": {
          "base_uri": "https://localhost:8080/"
        },
        "outputId": "69bb1592-643e-4334-d009-ebdde77e8af7"
      },
      "source": [
        "autoencoder_simple.summary()"
      ],
      "execution_count": 10,
      "outputs": [
        {
          "output_type": "stream",
          "name": "stdout",
          "text": [
            "Model: \"simple_autoencoder\"\n",
            "_________________________________________________________________\n",
            " Layer (type)                Output Shape              Param #   \n",
            "=================================================================\n",
            " input_1 (InputLayer)        [(None, 784)]             0         \n",
            "                                                                 \n",
            " dense (Dense)               (None, 64)                50240     \n",
            "                                                                 \n",
            " dense_1 (Dense)             (None, 784)               50960     \n",
            "                                                                 \n",
            "=================================================================\n",
            "Total params: 101,200\n",
            "Trainable params: 101,200\n",
            "Non-trainable params: 0\n",
            "_________________________________________________________________\n"
          ]
        }
      ]
    },
    {
      "cell_type": "markdown",
      "metadata": {
        "id": "q4YIQX89ubgt"
      },
      "source": [
        "### Activity: \n",
        "Explain the number of parameters in the encoder and decoder layers.<br>\n",
        "Your explanation here."
      ]
    },
    {
      "cell_type": "markdown",
      "metadata": {
        "id": "zhj-Z0cf0_lt"
      },
      "source": [
        "### Fit (train) the simple autoencoder"
      ]
    },
    {
      "cell_type": "code",
      "metadata": {
        "colab": {
          "base_uri": "https://localhost:8080/"
        },
        "id": "VO0acALycXak",
        "outputId": "70f4e43e-f3ee-4c24-a6b3-8ce4e72461b6"
      },
      "source": [
        "%%time\n",
        "# takes about 30 sec with min_delta=0.001, patience=2\n",
        "\n",
        "# cut off training if loss doesn't decrease by a certain amount over X number of epoches \n",
        "stop = EarlyStopping(monitor='val_loss', min_delta=0.001, patience=2)\n",
        "\n",
        "#  tensorboard callback\n",
        "logdir = os.path.join(\"logs\", f\"SimpleAutoencoder\")\n",
        "tensorboard = TensorBoard(log_dir=logdir)\n",
        "\n",
        "# fit the autoencoder model (train)\n",
        "autoencoder_simple.fit(x_train, # input image to encoder\n",
        "                        x_train, # provide input image as the target, so that the model learns how to reconstruct the input image \n",
        "                        epochs=100,\n",
        "                        batch_size=64,\n",
        "                        shuffle=True,\n",
        "                        validation_split=0.2,\n",
        "                        verbose = True,\n",
        "                        callbacks=[stop, tensorboard], \n",
        "                        workers=10)"
      ],
      "execution_count": 11,
      "outputs": [
        {
          "output_type": "stream",
          "name": "stdout",
          "text": [
            "Epoch 1/100\n",
            "1250/1250 [==============================] - 11s 4ms/step - loss: 0.2610 - mean_squared_error: 0.0519 - val_loss: 0.2021 - val_mean_squared_error: 0.0325\n",
            "Epoch 2/100\n",
            "1250/1250 [==============================] - 5s 4ms/step - loss: 0.1901 - mean_squared_error: 0.0286 - val_loss: 0.1847 - val_mean_squared_error: 0.0269\n",
            "Epoch 3/100\n",
            "1250/1250 [==============================] - 5s 4ms/step - loss: 0.1821 - mean_squared_error: 0.0260 - val_loss: 0.1816 - val_mean_squared_error: 0.0259\n",
            "Epoch 4/100\n",
            "1250/1250 [==============================] - 5s 4ms/step - loss: 0.1800 - mean_squared_error: 0.0253 - val_loss: 0.1803 - val_mean_squared_error: 0.0253\n",
            "Epoch 5/100\n",
            "1250/1250 [==============================] - 5s 4ms/step - loss: 0.1790 - mean_squared_error: 0.0249 - val_loss: 0.1796 - val_mean_squared_error: 0.0251\n",
            "Epoch 6/100\n",
            "1250/1250 [==============================] - 5s 4ms/step - loss: 0.1784 - mean_squared_error: 0.0247 - val_loss: 0.1794 - val_mean_squared_error: 0.0250\n",
            "CPU times: user 36.3 s, sys: 3.55 s, total: 39.8 s\n",
            "Wall time: 37.4 s\n"
          ]
        },
        {
          "output_type": "execute_result",
          "data": {
            "text/plain": [
              "<keras.callbacks.History at 0x7f055c6a9b10>"
            ]
          },
          "metadata": {},
          "execution_count": 11
        }
      ]
    },
    {
      "cell_type": "markdown",
      "metadata": {
        "id": "QdK2SgsjlK0l"
      },
      "source": [
        "### Use the trained model to reconstruct the input images\n"
      ]
    },
    {
      "cell_type": "code",
      "metadata": {
        "id": "FTWLm80scXao",
        "colab": {
          "base_uri": "https://localhost:8080/"
        },
        "outputId": "3afb2086-92ae-4561-80e7-223c6b3b4aa5"
      },
      "source": [
        "%%time\n",
        "# encode and decode all the images\n",
        "#     original images go in (i.e, x_train)\n",
        "#     decoded images come out (i.e. a non-perfect reconstruction of x_train)\n",
        "decoded_imgs = autoencoder_simple.predict(x_train)"
      ],
      "execution_count": 12,
      "outputs": [
        {
          "output_type": "stream",
          "name": "stdout",
          "text": [
            "3125/3125 [==============================] - 5s 2ms/step\n",
            "CPU times: user 7.95 s, sys: 1.02 s, total: 8.97 s\n",
            "Wall time: 16 s\n"
          ]
        }
      ]
    },
    {
      "cell_type": "code",
      "metadata": {
        "colab": {
          "base_uri": "https://localhost:8080/"
        },
        "id": "OAZx-JdtThCo",
        "outputId": "f3f7c407-52d4-47b3-cec7-c9b8487c6473"
      },
      "source": [
        "print(decoded_imgs.shape)\n",
        "print(type(decoded_imgs))"
      ],
      "execution_count": 13,
      "outputs": [
        {
          "output_type": "stream",
          "name": "stdout",
          "text": [
            "(100000, 784)\n",
            "<class 'numpy.ndarray'>\n"
          ]
        }
      ]
    },
    {
      "cell_type": "markdown",
      "metadata": {
        "id": "0m4E2Se9tZvm"
      },
      "source": [
        "### Visually compare reconstructed and original images"
      ]
    },
    {
      "cell_type": "code",
      "metadata": {
        "colab": {
          "base_uri": "https://localhost:8080/",
          "height": 336
        },
        "id": "8SUHJ0fWcXaq",
        "outputId": "73b29629-33a9-4e23-d51f-638308d67a16"
      },
      "source": [
        "def plot_images(x_train, decoded_imgs):\n",
        "  n_display = 10  # how many digits we will display\n",
        "  plt.figure(figsize=(20, 4))\n",
        "  for index in range(n_display):\n",
        "      # display original\n",
        "      ax = plt.subplot(2, n_display, index + 1)\n",
        "      plt.imshow(x_train[index].reshape(28, 28))\n",
        "      plt.gray()\n",
        "      ax.get_xaxis().set_visible(False)\n",
        "      ax.get_yaxis().set_visible(False)\n",
        "\n",
        "      # display reconstruction\n",
        "      ax = plt.subplot(2, n_display, index + 1 + n_display)\n",
        "      plt.imshow(decoded_imgs[index].reshape(28, 28))\n",
        "      plt.gray()\n",
        "      ax.get_xaxis().set_visible(False)\n",
        "      ax.get_yaxis().set_visible(False)\n",
        "  plt.show()\n",
        "\n",
        "\n",
        "plot_images(x_train, decoded_imgs)"
      ],
      "execution_count": 14,
      "outputs": [
        {
          "output_type": "display_data",
          "data": {
            "text/plain": [
              "<Figure size 2000x400 with 20 Axes>"
            ],
            "image/png": "[encoded data removed]"
          },
          "metadata": {}
        }
      ]
    },
    {
      "cell_type": "markdown",
      "metadata": {
        "id": "yxc_HMmpcXas"
      },
      "source": [
        "## Challenge\n",
        "\n",
        "You'll be expected to discuss the components of a simple autoencoder and their purpose. "
      ]
    },
    {
      "cell_type": "markdown",
      "metadata": {
        "id": "N4Ul6Iy4cXas"
      },
      "source": [
        "# 2. Train an Autoencoder (Learn)\n",
        "<a id=\"p2\"></a>\n",
        "In this section we will learn how to build and train deep autoencoders and convolutional autoencoders"
      ]
    },
    {
      "cell_type": "markdown",
      "metadata": {
        "id": "Ebglt0jdcXas"
      },
      "source": [
        "## Overview\n",
        "\n",
        "As long as our architecture maintains a symmetric \"hourglass\" shape, we can continue to add layers and create a deeper network. "
      ]
    },
    {
      "cell_type": "markdown",
      "metadata": {
        "id": "e_4G6nPkcXat",
        "toc-hr-collapsed": true
      },
      "source": [
        "## Follow Along"
      ]
    },
    {
      "cell_type": "markdown",
      "metadata": {
        "id": "tRKdX-cXcXat"
      },
      "source": [
        "## 2.1 Deep Autoencoder"
      ]
    },
    {
      "cell_type": "code",
      "metadata": {
        "deletable": false,
        "id": "9HMm7qudcXat",
        "nbgrader": {
          "cell_type": "code",
          "checksum": "9fe7b5108b54218104f469bd2034c729",
          "grade": false,
          "grade_id": "cell-714cfeff1d33d217",
          "locked": false,
          "schema_version": 3,
          "solution": true,
          "task": false
        }
      },
      "source": [
        "#                                encoder     ->    decoder \n",
        "# dim of each hidden layer: 784, 128, 64, 32 -> 64, 128, 784\n",
        "\n",
        "# input layer \n",
        "inputs = Input(shape=(784,))\n",
        "\n",
        "#======================================================\n",
        "# Encoder: produces encoded representation of the input\n",
        "# Like \"zip\"\n",
        "#======================================================\n",
        "# 1st encoding layer (compresses input image into 128 dim vect)\n",
        "encoded_1 = Dense(256, activation=\"relu\")(inputs)\n",
        "\n",
        "# 2nd encoding layer (compresses 128 dim vect into 64 dim vect)\n",
        "encoded_2 = Dense(128, activation=\"relu\")(encoded_1)\n",
        "\n",
        "# 3rd encoding layer (compresses 64 dim vect into 32 dim vect)\n",
        "# the output of this layer is the \"codings\" \n",
        "encoded_3 = Dense(64, activation=\"relu\")(encoded_2)\n",
        "\n",
        "#===========================================================\n",
        "# Decoder: produces the reconstructed input from the codings\n",
        "# Like \"unzip\"\n",
        "#===========================================================\n",
        "\n",
        "# 1st decoding layer (decompresses 32 dim vect into 64 dim vect)\n",
        "decoding_1 = Dense(128, activation=\"relu\")(encoded_3)\n",
        "\n",
        "# 2nd decoding layer (decompresses 64 dim vect into 128 dim vect)\n",
        "decoding_2 = Dense(256, activation=\"relu\")(decoding_1)\n",
        "\n",
        "# 3rd decoding layer (decompresses 128 dim vect into 784 dim vect)\n",
        "decoding_3 = Dense(784, activation=\"sigmoid\")(decoding_2)\n",
        "\n",
        "# build an autoencoder model, using the Model API\n",
        "autoencoder_deep = Model(inputs=inputs, outputs=decoding_3, name=\"autoencoder_deep\")\n"
      ],
      "execution_count": 15,
      "outputs": []
    },
    {
      "cell_type": "code",
      "metadata": {
        "id": "NpTetc-FlK0o",
        "colab": {
          "base_uri": "https://localhost:8080/"
        },
        "outputId": "ddd8bab9-65ba-4de5-e1c0-4fe40caac6b9"
      },
      "source": [
        "autoencoder_deep.summary()"
      ],
      "execution_count": 16,
      "outputs": [
        {
          "output_type": "stream",
          "name": "stdout",
          "text": [
            "Model: \"autoencoder_deep\"\n",
            "_________________________________________________________________\n",
            " Layer (type)                Output Shape              Param #   \n",
            "=================================================================\n",
            " input_2 (InputLayer)        [(None, 784)]             0         \n",
            "                                                                 \n",
            " dense_2 (Dense)             (None, 256)               200960    \n",
            "                                                                 \n",
            " dense_3 (Dense)             (None, 128)               32896     \n",
            "                                                                 \n",
            " dense_4 (Dense)             (None, 64)                8256      \n",
            "                                                                 \n",
            " dense_5 (Dense)             (None, 128)               8320      \n",
            "                                                                 \n",
            " dense_6 (Dense)             (None, 256)               33024     \n",
            "                                                                 \n",
            " dense_7 (Dense)             (None, 784)               201488    \n",
            "                                                                 \n",
            "=================================================================\n",
            "Total params: 484,944\n",
            "Trainable params: 484,944\n",
            "Non-trainable params: 0\n",
            "_________________________________________________________________\n"
          ]
        }
      ]
    },
    {
      "cell_type": "code",
      "metadata": {
        "colab": {
          "base_uri": "https://localhost:8080/"
        },
        "id": "1vxOBlb1cXav",
        "scrolled": true,
        "outputId": "312f4953-bb80-4777-cf88-412c7aa1258c"
      },
      "source": [
        "%%time\n",
        "# compile & fit model\n",
        "# takes about 2 min with min_delta=0.001, patience=2\n",
        "\n",
        "autoencoder_deep.compile(optimizer='nadam', loss='binary_crossentropy', metrics = [mean_squared_error])\n",
        "\n",
        "stop = EarlyStopping(monitor='val_loss', min_delta=0.001, patience=2)\n",
        "\n",
        "logdir = os.path.join(\"logs\", f\"DeepAutoencoder\")\n",
        "tensorboard = TensorBoard(log_dir=logdir)\n",
        "\n",
        "autoencoder_deep.fit(x_train, \n",
        "                     x_train,\n",
        "                     epochs=100,\n",
        "                     batch_size=64,\n",
        "                     shuffle=True,\n",
        "                     validation_split=0.2,\n",
        "                     verbose = True,\n",
        "                     callbacks=[stop, tensorboard], \n",
        "                     workers=10)"
      ],
      "execution_count": null,
      "outputs": [
        {
          "output_type": "stream",
          "name": "stdout",
          "text": [
            "Epoch 1/100\n",
            "1250/1250 [==============================] - 11s 6ms/step - loss: 0.2521 - mean_squared_error: 0.0510 - val_loss: 0.2169 - val_mean_squared_error: 0.0395\n",
            "Epoch 2/100\n",
            "1250/1250 [==============================] - 7s 5ms/step - loss: 0.2040 - mean_squared_error: 0.0347 - val_loss: 0.1953 - val_mean_squared_error: 0.0317\n",
            "Epoch 3/100\n",
            "1250/1250 [==============================] - 7s 6ms/step - loss: 0.1897 - mean_squared_error: 0.0298 - val_loss: 0.1859 - val_mean_squared_error: 0.0284\n",
            "Epoch 4/100\n",
            "1250/1250 [==============================] - 7s 5ms/step - loss: 0.1818 - mean_squared_error: 0.0270 - val_loss: 0.1785 - val_mean_squared_error: 0.0258\n",
            "Epoch 5/100\n",
            "1250/1250 [==============================] - 7s 6ms/step - loss: 0.1765 - mean_squared_error: 0.0252 - val_loss: 0.1762 - val_mean_squared_error: 0.0251\n",
            "Epoch 6/100\n",
            "1250/1250 [==============================] - 7s 6ms/step - loss: 0.1728 - mean_squared_error: 0.0240 - val_loss: 0.1722 - val_mean_squared_error: 0.0238\n",
            "Epoch 7/100\n",
            "1250/1250 [==============================] - 7s 5ms/step - loss: 0.1699 - mean_squared_error: 0.0230 - val_loss: 0.1697 - val_mean_squared_error: 0.0228\n",
            "Epoch 8/100\n",
            "1250/1250 [==============================] - 7s 6ms/step - loss: 0.1676 - mean_squared_error: 0.0222 - val_loss: 0.1682 - val_mean_squared_error: 0.0222\n",
            "Epoch 9/100\n",
            "1250/1250 [==============================] - 7s 5ms/step - loss: 0.1657 - mean_squared_error: 0.0215 - val_loss: 0.1655 - val_mean_squared_error: 0.0216\n",
            "Epoch 10/100\n",
            "1250/1250 [==============================] - 7s 6ms/step - loss: 0.1642 - mean_squared_error: 0.0210 - val_loss: 0.1638 - val_mean_squared_error: 0.0208\n",
            "Epoch 11/100\n",
            "1250/1250 [==============================] - 7s 6ms/step - loss: 0.1627 - mean_squared_error: 0.0205 - val_loss: 0.1640 - val_mean_squared_error: 0.0208\n",
            "Epoch 12/100\n",
            "1250/1250 [==============================] - 7s 5ms/step - loss: 0.1615 - mean_squared_error: 0.0201 - val_loss: 0.1615 - val_mean_squared_error: 0.0200\n",
            "Epoch 13/100\n",
            "1250/1250 [==============================] - 8s 6ms/step - loss: 0.1604 - mean_squared_error: 0.0197 - val_loss: 0.1603 - val_mean_squared_error: 0.0197\n",
            "Epoch 14/100\n",
            "1248/1250 [============================>.] - ETA: 0s - loss: 0.1595 - mean_squared_error: 0.0194"
          ]
        }
      ]
    },
    {
      "cell_type": "markdown",
      "metadata": {
        "id": "EvQ3xClvlK0p"
      },
      "source": [
        "### Use the trained model to reconstruct the input images"
      ]
    },
    {
      "cell_type": "code",
      "metadata": {
        "id": "rItHgXkEsAkd"
      },
      "source": [
        "decoded_imgs = autoencoder_deep.predict(x_train)\n",
        "print(type(decoded_imgs))"
      ],
      "execution_count": null,
      "outputs": []
    },
    {
      "cell_type": "markdown",
      "metadata": {
        "id": "vvZUp7HOuhZD"
      },
      "source": [
        "### Compare reconstructed to original images"
      ]
    },
    {
      "cell_type": "code",
      "metadata": {
        "id": "BNbUfdzmvD9w"
      },
      "source": [
        "plot_images(x_train, decoded_imgs)"
      ],
      "execution_count": null,
      "outputs": []
    },
    {
      "cell_type": "markdown",
      "metadata": {
        "id": "LDIK_lTvcXaz",
        "toc-hr-collapsed": true
      },
      "source": [
        "##2.2 Convolutional autoencoder\n",
        "\n",
        "> Since our inputs are images, it makes sense to use convolutional neural networks (convnets) as encoders and decoders. In practical settings, autoencoders applied to images are always convolutional autoencoders --they simply perform much better.\n",
        "\n",
        "> Let's implement one. The encoder will consist of a stack of `Conv2D` and `MaxPooling2D` layers, while the decoder will consist of a stack of `Conv2D` and `UpSampling2D` layers. Here `MaxPooling2D` layers and `Upsampling2D` layers are used for spatial down-sampling and up-sampling, respectively."
      ]
    },
    {
      "cell_type": "markdown",
      "metadata": {
        "id": "YIK_--5llK0r"
      },
      "source": [
        "### Example Image of a Convolutional Autoencoder \n",
        "\n",
        "![](https://www.researchgate.net/profile/Xifeng-Guo/publication/320658590/figure/fig1/AS:614154637418504@1523437284408/The-structure-of-proposed-Convolutional-AutoEncoders-CAE-for-MNIST-In-the-middle-there.png)"
      ]
    },
    {
      "cell_type": "code",
      "metadata": {
        "id": "rX8irpN0vKqX"
      },
      "source": [
        "# we need to transform our row vectors back into matrices\n",
        "# because the convolutional and pooling layers expect images in the form of matrices \n",
        "x_train = x_train.reshape((x_train.shape[0], 28, 28))\n",
        "x_train[0].shape"
      ],
      "execution_count": null,
      "outputs": []
    },
    {
      "cell_type": "code",
      "metadata": {
        "deletable": false,
        "id": "BpTNh1YyvYgK",
        "nbgrader": {
          "cell_type": "code",
          "checksum": "fa6de1fde32d9ca2aa2a00588a9d32cb",
          "grade": false,
          "grade_id": "cell-1503cd6388e2ea1a",
          "locked": false,
          "schema_version": 3,
          "solution": true,
          "task": false
        }
      },
      "source": [
        "\n",
        "# define some parameters and the dims of each, individual sample \n",
        "input_shape = (28,28,1)\n",
        "\n",
        "# weight matrix parameters\n",
        "# size of the convolution kernel (or filter)\n",
        "conv_filter_size = (3,3)\n",
        "pooling_filter_size = (2,2)\n",
        "\n",
        "# input layer \n",
        "inputs = Input(shape=input_shape)\n",
        "\n",
        "### encoding layers ### \n",
        "# This layer takes 28x28 image as input and produces 16 feature maps of size 14x14\n",
        "encoded = Conv2D(16, conv_filter_size, activation=\"relu\", padding=\"same\")(inputs)\n",
        "encoded = MaxPooling2D(pooling_filter_size, padding=\"same\")(encoded)\n",
        "\n",
        "# This layer takes the previous layer as input and produces 8 feature maps of size 7x7\n",
        "encoded = Conv2D(8, conv_filter_size, activation=\"relu\", padding=\"same\")(encoded)\n",
        "encoded = MaxPooling2D(pooling_filter_size, padding=\"same\")(encoded)\n",
        "\n",
        "# This layer takes the previous layer as input and produces 8 feature maps of size 4x4\n",
        "encoded = Conv2D(8, conv_filter_size, activation=\"relu\", padding=\"same\")(encoded)\n",
        "encoded = MaxPooling2D(pooling_filter_size, padding=\"same\")(encoded)\n",
        "\n",
        "# flatten 3D tensor into 1D vector in preparation for the Dense layer \n",
        "encoded = Flatten()(encoded)\n",
        "\n",
        "# this is the coding, the output of the encoder layer\n",
        "coding = Dense(64, activation=\"relu\")(encoded)\n",
        "\n",
        "# reshape 1D vectors into 2D arrays, for input to Convolution layers \n",
        "#     64 = 4 * 4 * 4\n",
        "encoded = Reshape((4,4,4))(coding)\n",
        "\n",
        "### decoding layers ###\n",
        "decoded = Conv2D(8, conv_filter_size, activation=\"relu\", padding=\"same\")(encoded)\n",
        "decoded = UpSampling2D(pooling_filter_size)(decoded)\n",
        "                  \n",
        "decoded = Conv2D(8, conv_filter_size, activation=\"relu\", padding=\"same\")(decoded)\n",
        "decoded = UpSampling2D(pooling_filter_size)(decoded)\n",
        "                  \n",
        "decoded = Conv2D(16, conv_filter_size, activation=\"relu\")(decoded) # in order to get to 14x14 instead of 167x16\n",
        "decoded = UpSampling2D(pooling_filter_size)(decoded)\n",
        "\n",
        "# because this is the final reconstruction of the original image,\n",
        "#   we must necessarily use a single weight matrix for the convolution \n",
        "#   so that the final output is a 2D matrix and not a rank 3 Tensor (i.e. a volume)\n",
        "decoded = Conv2D(1, conv_filter_size, activation=\"sigmoid\", padding=\"same\")(decoded)\n",
        "\n",
        "# out it all together using the Model API\n",
        "conv_autoencoder = Model(inputs=inputs, outputs=decoded, name=\"conv_autoencoder\")"
      ],
      "execution_count": 21,
      "outputs": []
    },
    {
      "cell_type": "code",
      "metadata": {
        "id": "UveUpiB_lK0s",
        "colab": {
          "base_uri": "https://localhost:8080/"
        },
        "outputId": "b7e7cc6e-9924-43c8-bb9a-cb924d862864"
      },
      "source": [
        "conv_autoencoder.summary()"
      ],
      "execution_count": 22,
      "outputs": [
        {
          "metadata": {
            "tags": null
          },
          "name": "stdout",
          "output_type": "stream",
          "text": [
            "Model: \"conv_autoencoder\"\n",
            "_________________________________________________________________\n",
            " Layer (type)                Output Shape              Param #   \n",
            "=================================================================\n",
            " input_3 (InputLayer)        [(None, 28, 28, 1)]       0         \n",
            "                                                                 \n",
            " conv2d (Conv2D)             (None, 28, 28, 16)        160       \n",
            "                                                                 \n",
            " max_pooling2d (MaxPooling2D  (None, 14, 14, 16)       0         \n",
            " )                                                               \n",
            "                                                                 \n",
            " conv2d_1 (Conv2D)           (None, 14, 14, 8)         1160      \n",
            "                                                                 \n",
            " max_pooling2d_1 (MaxPooling  (None, 7, 7, 8)          0         \n",
            " 2D)                                                             \n",
            "                                                                 \n",
            " conv2d_2 (Conv2D)           (None, 7, 7, 8)           584       \n",
            "                                                                 \n",
            " max_pooling2d_2 (MaxPooling  (None, 4, 4, 8)          0         \n",
            " 2D)                                                             \n",
            "                                                                 \n",
            " flatten (Flatten)           (None, 128)               0         \n",
            "                                                                 \n",
            " dense_8 (Dense)             (None, 64)                8256      \n",
            "                                                                 \n",
            " reshape (Reshape)           (None, 4, 4, 4)           0         \n",
            "                                                                 \n",
            " conv2d_3 (Conv2D)           (None, 4, 4, 8)           296       \n",
            "                                                                 \n",
            " up_sampling2d (UpSampling2D  (None, 8, 8, 8)          0         \n",
            " )                                                               \n",
            "                                                                 \n",
            " conv2d_4 (Conv2D)           (None, 8, 8, 8)           584       \n",
            "                                                                 \n",
            " up_sampling2d_1 (UpSampling  (None, 16, 16, 8)        0         \n",
            " 2D)                                                             \n",
            "                                                                 \n",
            " conv2d_5 (Conv2D)           (None, 14, 14, 16)        1168      \n",
            "                                                                 \n",
            " up_sampling2d_2 (UpSampling  (None, 28, 28, 16)       0         \n",
            " 2D)                                                             \n",
            "                                                                 \n",
            " conv2d_6 (Conv2D)           (None, 28, 28, 1)         145       \n",
            "                                                                 \n",
            "=================================================================\n",
            "Total params: 12,353\n",
            "Trainable params: 12,353\n",
            "Non-trainable params: 0\n",
            "_________________________________________________________________\n"
          ]
        }
      ]
    },
    {
      "cell_type": "code",
      "metadata": {
        "colab": {
          "base_uri": "https://localhost:8080/"
        },
        "id": "zN6zCoovcXa8",
        "scrolled": true,
        "outputId": "eab8bbc6-5a7d-4b3c-e9dd-f752a3a17990"
      },
      "source": [
        "%%time\n",
        "# takes about 5 min on Colab with min_delta=0.01, patience=5\n",
        "# compile & fit model\n",
        "\n",
        "conv_autoencoder.compile(optimizer='nadam', loss='binary_crossentropy', metrics = [mean_squared_error])\n",
        "\n",
        "# make tensorboard callback\n",
        "logdir = os.path.join(\"logs\", f\"ConvolutionalAutoencoder\")\n",
        "tensorboard = TensorBoard(log_dir=logdir)\n",
        "\n",
        "# early stopping callback\n",
        "stop = EarlyStopping(monitor='val_loss', min_delta=0.01, patience=5)\n",
        "\n",
        "\n",
        "conv_autoencoder.fit(x_train, \n",
        "                     x_train,\n",
        "                     epochs=50,\n",
        "                     batch_size=32,\n",
        "                     shuffle=True,\n",
        "                     validation_split=0.2,\n",
        "                     verbose = True,\n",
        "                     callbacks=[stop, tensorboard], \n",
        "                     workers=10)"
      ],
      "execution_count": 23,
      "outputs": [
        {
          "output_type": "stream",
          "name": "stdout",
          "text": [
            "Epoch 1/50\n",
            "2500/2500 [==============================] - 30s 8ms/step - loss: 0.2627 - mean_squared_error: 0.0562 - val_loss: 0.2344 - val_mean_squared_error: 0.0467\n",
            "Epoch 2/50\n",
            "2500/2500 [==============================] - 19s 8ms/step - loss: 0.2274 - mean_squared_error: 0.0443 - val_loss: 0.2227 - val_mean_squared_error: 0.0425\n",
            "Epoch 3/50\n",
            "2500/2500 [==============================] - 18s 7ms/step - loss: 0.2191 - mean_squared_error: 0.0413 - val_loss: 0.2161 - val_mean_squared_error: 0.0402\n",
            "Epoch 4/50\n",
            "2500/2500 [==============================] - 20s 8ms/step - loss: 0.2144 - mean_squared_error: 0.0396 - val_loss: 0.2131 - val_mean_squared_error: 0.0392\n",
            "Epoch 5/50\n",
            "2500/2500 [==============================] - 20s 8ms/step - loss: 0.2110 - mean_squared_error: 0.0384 - val_loss: 0.2092 - val_mean_squared_error: 0.0377\n",
            "Epoch 6/50\n",
            "2500/2500 [==============================] - 19s 8ms/step - loss: 0.2084 - mean_squared_error: 0.0375 - val_loss: 0.2070 - val_mean_squared_error: 0.0369\n",
            "Epoch 7/50\n",
            "2500/2500 [==============================] - 20s 8ms/step - loss: 0.2064 - mean_squared_error: 0.0368 - val_loss: 0.2065 - val_mean_squared_error: 0.0368\n",
            "Epoch 8/50\n",
            "2500/2500 [==============================] - 19s 8ms/step - loss: 0.2048 - mean_squared_error: 0.0362 - val_loss: 0.2038 - val_mean_squared_error: 0.0358\n",
            "Epoch 9/50\n",
            "2500/2500 [==============================] - 19s 8ms/step - loss: 0.2034 - mean_squared_error: 0.0357 - val_loss: 0.2033 - val_mean_squared_error: 0.0357\n",
            "Epoch 10/50\n",
            "2500/2500 [==============================] - 19s 8ms/step - loss: 0.2022 - mean_squared_error: 0.0353 - val_loss: 0.2015 - val_mean_squared_error: 0.0349\n",
            "CPU times: user 3min 36s, sys: 13.1 s, total: 3min 49s\n",
            "Wall time: 3min 24s\n"
          ]
        },
        {
          "output_type": "execute_result",
          "data": {
            "text/plain": [
              "<keras.callbacks.History at 0x7f05422a3e20>"
            ]
          },
          "metadata": {},
          "execution_count": 23
        }
      ]
    },
    {
      "cell_type": "code",
      "metadata": {
        "colab": {
          "base_uri": "https://localhost:8080/"
        },
        "id": "J7IdMgFvxnT_",
        "outputId": "281ff7ff-6ea5-49c7-bdf6-3fc612083b84"
      },
      "source": [
        "decoded_imgs = conv_autoencoder.predict(x_train)\n",
        "print(decoded_imgs.shape)\n",
        "print(type(decoded_imgs))\n",
        "# squeeze singleton dimension\n",
        "decoded_imgs = np.squeeze(decoded_imgs)\n",
        "print(decoded_imgs.shape)"
      ],
      "execution_count": 24,
      "outputs": [
        {
          "output_type": "stream",
          "name": "stdout",
          "text": [
            "3125/3125 [==============================] - 7s 2ms/step\n",
            "(100000, 28, 28, 1)\n",
            "<class 'numpy.ndarray'>\n",
            "(100000, 28, 28)\n"
          ]
        }
      ]
    },
    {
      "cell_type": "code",
      "metadata": {
        "colab": {
          "base_uri": "https://localhost:8080/",
          "height": 336
        },
        "id": "aJJAztvYwqXT",
        "outputId": "f2951bd1-632e-4257-c382-fba70848dbe3"
      },
      "source": [
        "plot_images(x_train, decoded_imgs)"
      ],
      "execution_count": 25,
      "outputs": [
        {
          "output_type": "display_data",
          "data": {
            "text/plain": [
              "<Figure size 2000x400 with 20 Axes>"
            ],
            "image/png": "[encoded data removed]"
          },
          "metadata": {}
        }
      ]
    },
    {
      "cell_type": "markdown",
      "metadata": {
        "id": "XsEBZxEtcXbC"
      },
      "source": [
        "#### Visualization of the Representations (codings)"
      ]
    },
    {
      "cell_type": "code",
      "metadata": {
        "colab": {
          "base_uri": "https://localhost:8080/",
          "height": 186
        },
        "id": "Kdpr3O_ecXbD",
        "outputId": "7064afce-e2fc-423c-a36f-4bdfa65c3eaf"
      },
      "source": [
        "# we have isolated the encoder portion of our auto-encoder so that we can access the encoder vector (i.e. the output of the encoder)\n",
        "encoder = Model(inputs=inputs, outputs=encoded)\n",
        "\n",
        "# the predictions (i.e. the output) of our encoder model are the original images encoder into a smaller dim space (i.e. the encoder vectors)\n",
        "encoded_imgs = encoder.predict(x_train)\n",
        "\n",
        "# display the codings for the above input images\n",
        "n = 10\n",
        "plt.figure(figsize=(20, 8))\n",
        "for i in range(1, n):\n",
        "    ax = plt.subplot(1, n, i)\n",
        "    plt.imshow(encoded_imgs[i].reshape(8, 8))\n",
        "    plt.gray()\n",
        "    ax.get_xaxis().set_visible(False)\n",
        "    ax.get_yaxis().set_visible(False)\n",
        "plt.show()\n"
      ],
      "execution_count": 26,
      "outputs": [
        {
          "output_type": "stream",
          "name": "stdout",
          "text": [
            "3125/3125 [==============================] - 6s 2ms/step\n"
          ]
        },
        {
          "output_type": "display_data",
          "data": {
            "text/plain": [
              "<Figure size 2000x800 with 9 Axes>"
            ],
            "image/png": "[encoded data removed]"
          },
          "metadata": {}
        }
      ]
    },
    {
      "cell_type": "markdown",
      "metadata": {
        "id": "uR6oiK4S29V2"
      },
      "source": [
        "The above images are the $64$-dimensional encoded vectors (codings), <br>represented as $8\\times8$ images, for some of the input images from `x_train`<br>\n",
        "Notice that we really can't interpret the encoded vectors -- this is the price we pay for dimensionality reduction! <br>\n",
        "The features in the encoded vectors are *non-linear* combinations of the input features. <br>\n",
        "Recall that PCA (Principal Components Analysis)\n",
        "-- a *linear* dimensionality reduction technique -- also incurs the cost of interpretability loss.<br>\n",
        "Reference: [Principal Component Analysis Explained Visually](https://setosa.io/ev/principal-component-analysis/). "
      ]
    },
    {
      "cell_type": "markdown",
      "metadata": {
        "id": "PsQkgBxycXbG"
      },
      "source": [
        "## Challenge\n",
        "\n",
        "You will be expected to build and train autoencoders at some point in the near future!"
      ]
    },
    {
      "cell_type": "markdown",
      "metadata": {
        "id": "R1kPEE5EcXbH"
      },
      "source": [
        "# 3. Application of Autoencoders: Information Retrieval -- Recommender Systems (Learn)\n",
        "<a id=\"p3\"></a>"
      ]
    },
    {
      "cell_type": "markdown",
      "metadata": {
        "id": "kfP4RplXcXbH"
      },
      "source": [
        "## Overview\n",
        "\n",
        "A common usecase for autoencoders is for reverse image search. Let's try to draw an image and see what's most similiar in our dataset. \n",
        "\n",
        "To accomplish this we will need to slice our autoendoer in half to extract our reduced features. :) "
      ]
    },
    {
      "cell_type": "markdown",
      "metadata": {
        "id": "QC545MukcXbI"
      },
      "source": [
        "## Follow Along\n",
        "\n",
        "We are going to perform the following: \n",
        "\n",
        "- Build an encoder model\n",
        "- Train a NearestNeighbors on encoded images\n",
        "- Choose a query image \n",
        "- Find similar encoded images using the trained NearestNeighbors model\n",
        "- Check our results: make sure that the selected images are in fact similar to the query image!\n",
        "\n",
        "### 3.1 Build an encoder model\n",
        "\n",
        "Use the `Model` class and the encoder layers to build an encoded model. Remember that we first need to train a full autoencoder model, which has both an encoder and and a decoder, before we can \"break off\" the trained encoder portion. "
      ]
    },
    {
      "cell_type": "code",
      "metadata": {
        "id": "91NAIzeklK0w",
        "colab": {
          "base_uri": "https://localhost:8080/"
        },
        "outputId": "41a0e4fc-23ec-4bee-a980-90e9075c9740"
      },
      "source": [
        "coding.shape"
      ],
      "execution_count": 27,
      "outputs": [
        {
          "output_type": "execute_result",
          "data": {
            "text/plain": [
              "TensorShape([None, 64])"
            ]
          },
          "metadata": {},
          "execution_count": 27
        }
      ]
    },
    {
      "cell_type": "code",
      "metadata": {
        "deletable": false,
        "id": "HlzNPGNAcXbI",
        "nbgrader": {
          "cell_type": "code",
          "checksum": "f35a97c1b2d32e9fcce18e294355a6ce",
          "grade": false,
          "grade_id": "cell-86a84bb7c1403c77",
          "locked": false,
          "schema_version": 3,
          "solution": true,
          "task": false
        },
        "colab": {
          "base_uri": "https://localhost:8080/"
        },
        "outputId": "5ed1f45f-6601-44e9-e47a-688170f220f0"
      },
      "source": [
        "# in Section 2, we isolated the encoder portion of the convolutional auto-encoder \n",
        "# in the object named coding, so that we can access the encoder part of the model\n",
        "\n",
        "# Build the encoder, which takes input images and producse flattened codings\n",
        "encoder = Model(inputs=inputs, outputs=coding)\n",
        "\n",
        "# Run the encoder on the input data set\n",
        "encoded_imgs = encoder.predict(x_train)"
      ],
      "execution_count": 28,
      "outputs": [
        {
          "output_type": "stream",
          "name": "stdout",
          "text": [
            "3125/3125 [==============================] - 5s 2ms/step\n"
          ]
        }
      ]
    },
    {
      "cell_type": "code",
      "metadata": {
        "id": "pebiesLglK0w",
        "colab": {
          "base_uri": "https://localhost:8080/"
        },
        "outputId": "9c91ee12-8e14-4780-cffa-d302bf4c7893"
      },
      "source": [
        "# now we can pass in our row vectors into a Nearest Neighbors model\n",
        "print(encoded_imgs.shape)"
      ],
      "execution_count": 29,
      "outputs": [
        {
          "output_type": "stream",
          "name": "stdout",
          "text": [
            "(100000, 64)\n"
          ]
        }
      ]
    },
    {
      "cell_type": "markdown",
      "metadata": {
        "id": "uMspXTtLlK0w"
      },
      "source": [
        "###3.2  Train a NearestNeighbors model\n",
        "\n",
        "Build a `NearestNeighbors` model and train it on the encoded images. \n"
      ]
    },
    {
      "cell_type": "code",
      "metadata": {
        "colab": {
          "base_uri": "https://localhost:8080/",
          "height": 111
        },
        "id": "vloe7VtjcXc1",
        "outputId": "680f556a-8348-4065-8efe-2e6d7ef476d4"
      },
      "source": [
        "%%time\n",
        "\n",
        "# fit KNN on encoded images (i.e. the encoded vectors)\n",
        "nn = NearestNeighbors()\n",
        "\n",
        "# pass in the encoded images (i.e. the encoded vectors )\n",
        "nn.fit(encoded_imgs)"
      ],
      "execution_count": 30,
      "outputs": [
        {
          "output_type": "stream",
          "name": "stdout",
          "text": [
            "CPU times: user 6.01 ms, sys: 0 ns, total: 6.01 ms\n",
            "Wall time: 4.84 ms\n"
          ]
        },
        {
          "output_type": "execute_result",
          "data": {
            "text/plain": [
              "NearestNeighbors()"
            ],
            "text/html": [
              "<style>#sk-container-id-1 {color: black;background-color: white;}#sk-container-id-1 pre{padding: 0;}#sk-container-id-1 div.sk-toggleable {background-color: white;}#sk-container-id-1 label.sk-toggleable__label {cursor: pointer;display: block;width: 100%;margin-bottom: 0;padding: 0.3em;box-sizing: border-box;text-align: center;}#sk-container-id-1 label.sk-toggleable__label-arrow:before {content: \"▸\";float: left;margin-right: 0.25em;color: #696969;}#sk-container-id-1 label.sk-toggleable__label-arrow:hover:before {color: black;}#sk-container-id-1 div.sk-estimator:hover label.sk-toggleable__label-arrow:before {color: black;}#sk-container-id-1 div.sk-toggleable__content {max-height: 0;max-width: 0;overflow: hidden;text-align: left;background-color: #f0f8ff;}#sk-container-id-1 div.sk-toggleable__content pre {margin: 0.2em;color: black;border-radius: 0.25em;background-color: #f0f8ff;}#sk-container-id-1 input.sk-toggleable__control:checked~div.sk-toggleable__content {max-height: 200px;max-width: 100%;overflow: auto;}#sk-container-id-1 input.sk-toggleable__control:checked~label.sk-toggleable__label-arrow:before {content: \"▾\";}#sk-container-id-1 div.sk-estimator input.sk-toggleable__control:checked~label.sk-toggleable__label {background-color: #d4ebff;}#sk-container-id-1 div.sk-label input.sk-toggleable__control:checked~label.sk-toggleable__label {background-color: #d4ebff;}#sk-container-id-1 input.sk-hidden--visually {border: 0;clip: rect(1px 1px 1px 1px);clip: rect(1px, 1px, 1px, 1px);height: 1px;margin: -1px;overflow: hidden;padding: 0;position: absolute;width: 1px;}#sk-container-id-1 div.sk-estimator {font-family: monospace;background-color: #f0f8ff;border: 1px dotted black;border-radius: 0.25em;box-sizing: border-box;margin-bottom: 0.5em;}#sk-container-id-1 div.sk-estimator:hover {background-color: #d4ebff;}#sk-container-id-1 div.sk-parallel-item::after {content: \"\";width: 100%;border-bottom: 1px solid gray;flex-grow: 1;}#sk-container-id-1 div.sk-label:hover label.sk-toggleable__label {background-color: #d4ebff;}#sk-container-id-1 div.sk-serial::before {content: \"\";position: absolute;border-left: 1px solid gray;box-sizing: border-box;top: 0;bottom: 0;left: 50%;z-index: 0;}#sk-container-id-1 div.sk-serial {display: flex;flex-direction: column;align-items: center;background-color: white;padding-right: 0.2em;padding-left: 0.2em;position: relative;}#sk-container-id-1 div.sk-item {position: relative;z-index: 1;}#sk-container-id-1 div.sk-parallel {display: flex;align-items: stretch;justify-content: center;background-color: white;position: relative;}#sk-container-id-1 div.sk-item::before, #sk-container-id-1 div.sk-parallel-item::before {content: \"\";position: absolute;border-left: 1px solid gray;box-sizing: border-box;top: 0;bottom: 0;left: 50%;z-index: -1;}#sk-container-id-1 div.sk-parallel-item {display: flex;flex-direction: column;z-index: 1;position: relative;background-color: white;}#sk-container-id-1 div.sk-parallel-item:first-child::after {align-self: flex-end;width: 50%;}#sk-container-id-1 div.sk-parallel-item:last-child::after {align-self: flex-start;width: 50%;}#sk-container-id-1 div.sk-parallel-item:only-child::after {width: 0;}#sk-container-id-1 div.sk-dashed-wrapped {border: 1px dashed gray;margin: 0 0.4em 0.5em 0.4em;box-sizing: border-box;padding-bottom: 0.4em;background-color: white;}#sk-container-id-1 div.sk-label label {font-family: monospace;font-weight: bold;display: inline-block;line-height: 1.2em;}#sk-container-id-1 div.sk-label-container {text-align: center;}#sk-container-id-1 div.sk-container {/* jupyter's `normalize.less` sets `[hidden] { display: none; }` but bootstrap.min.css set `[hidden] { display: none !important; }` so we also need the `!important` here to be able to override the default hidden behavior on the sphinx rendered scikit-learn.org. See: https://github.com/scikit-learn/scikit-learn/issues/21755 */display: inline-block !important;position: relative;}#sk-container-id-1 div.sk-text-repr-fallback {display: none;}</style><div id=\"sk-container-id-1\" class=\"sk-top-container\"><div class=\"sk-text-repr-fallback\"><pre>NearestNeighbors()</pre><b>In a Jupyter environment, please rerun this cell to show the HTML representation or trust the notebook. <br />On GitHub, the HTML representation is unable to render, please try loading this page with nbviewer.org.</b></div><div class=\"sk-container\" hidden><div class=\"sk-item\"><div class=\"sk-estimator sk-toggleable\"><input class=\"sk-toggleable__control sk-hidden--visually\" id=\"sk-estimator-id-1\" type=\"checkbox\" checked><label for=\"sk-estimator-id-1\" class=\"sk-toggleable__label sk-toggleable__label-arrow\">NearestNeighbors</label><div class=\"sk-toggleable__content\"><pre>NearestNeighbors()</pre></div></div></div></div></div>"
            ]
          },
          "metadata": {},
          "execution_count": 30
        }
      ]
    },
    {
      "cell_type": "markdown",
      "metadata": {
        "id": "Y_Oqyy1RlK0x"
      },
      "source": [
        "### Select a query image\n",
        "\n",
        "Next, we chose an image that we will pass into the `NearestNeighbors` model in order to find similar images. <br>\n",
        "Feel free to select a different image."
      ]
    },
    {
      "cell_type": "code",
      "metadata": {
        "colab": {
          "base_uri": "https://localhost:8080/",
          "height": 452
        },
        "id": "2sVRGWRK2_in",
        "outputId": "d13324de-95b0-4dca-d8c1-c48c26d279ba"
      },
      "source": [
        "# get a query image \n",
        "query =  42\n",
        "query_img = x_train[query]\n",
        "query_label = class_names[y_train[query]]\n",
        "\n",
        "# we will pass the query image into NearestNeighbors in order to find similar images, \n",
        "#      by identifying images whose encoded vectors are closest in distance to the query image's encoded vector\n",
        "plt.title(query_label)\n",
        "plt.imshow(query_img);"
      ],
      "execution_count": 31,
      "outputs": [
        {
          "output_type": "display_data",
          "data": {
            "text/plain": [
              "<Figure size 640x480 with 1 Axes>"
            ],
            "image/png": "[encoded data removed]"
          },
          "metadata": {}
        }
      ]
    },
    {
      "cell_type": "markdown",
      "metadata": {
        "id": "4ufnBGfWlK0y"
      },
      "source": [
        "### 3.3 Find and Retrieve Images that are Similar to the Query Image\n",
        "Use the encoder to encode our query image"
      ]
    },
    {
      "cell_type": "code",
      "metadata": {
        "colab": {
          "base_uri": "https://localhost:8080/"
        },
        "deletable": false,
        "id": "2OfvQCRicXc4",
        "nbgrader": {
          "cell_type": "code",
          "checksum": "74ee5f53a50cc3901333be11438d9f21",
          "grade": false,
          "grade_id": "cell-a1412daf9fd457c3",
          "locked": false,
          "schema_version": 3,
          "solution": true,
          "task": false
        },
        "outputId": "e7088c13-d3b3-4456-c724-77ff38cd73a2"
      },
      "source": [
        "# format the query image for input to our model\n",
        "print(query_img.shape)"
      ],
      "execution_count": 32,
      "outputs": [
        {
          "output_type": "stream",
          "name": "stdout",
          "text": [
            "(28, 28)\n"
          ]
        }
      ]
    },
    {
      "cell_type": "code",
      "metadata": {
        "colab": {
          "base_uri": "https://localhost:8080/"
        },
        "id": "SMLj1Tfi1uL9",
        "outputId": "7cd64fe2-5b3c-4733-e809-3f3a7e7385cc"
      },
      "source": [
        "# reshape for input to encoder: the extra dimension is for the batch index\n",
        "query_img_reshaped = np.reshape(query_img,(1,28,28) )\n",
        "print(query_img_reshaped.shape)"
      ],
      "execution_count": 33,
      "outputs": [
        {
          "output_type": "stream",
          "name": "stdout",
          "text": [
            "(1, 28, 28)\n"
          ]
        }
      ]
    },
    {
      "cell_type": "code",
      "metadata": {
        "id": "_yiHsTjtlK00",
        "colab": {
          "base_uri": "https://localhost:8080/"
        },
        "outputId": "409bc41d-37bd-476a-a2ac-0874e2e1cbd1"
      },
      "source": [
        "# encode the query image to a lower dimensional vector using our encoder model \n",
        "query_img_encoded = encoder.predict(query_img_reshaped)"
      ],
      "execution_count": 34,
      "outputs": [
        {
          "output_type": "stream",
          "name": "stdout",
          "text": [
            "1/1 [==============================] - 0s 143ms/step\n"
          ]
        }
      ]
    },
    {
      "cell_type": "code",
      "metadata": {
        "id": "tcqod-gglK00",
        "colab": {
          "base_uri": "https://localhost:8080/"
        },
        "outputId": "cdea3315-4a89-4d3a-ea1d-a8327a9c9d75"
      },
      "source": [
        "query_img_encoded.shape"
      ],
      "execution_count": 35,
      "outputs": [
        {
          "output_type": "execute_result",
          "data": {
            "text/plain": [
              "(1, 64)"
            ]
          },
          "metadata": {},
          "execution_count": 35
        }
      ]
    },
    {
      "cell_type": "markdown",
      "metadata": {
        "id": "Ds-aBRT56Nt_"
      },
      "source": [
        "Select the 10 nearest neighbor images to our query image"
      ]
    },
    {
      "cell_type": "code",
      "metadata": {
        "id": "4TbkGTqalK00"
      },
      "source": [
        "_, neigh_ind = nn.kneighbors(query_img_encoded,n_neighbors=11)"
      ],
      "execution_count": 36,
      "outputs": []
    },
    {
      "cell_type": "markdown",
      "metadata": {
        "id": "6wIoUxUkHgdP"
      },
      "source": [
        "Nearest neighbor distances:"
      ]
    },
    {
      "cell_type": "markdown",
      "metadata": {
        "id": "HbJH2vWUHjXa"
      },
      "source": [
        "Nearest neighbor indexes: <br>\n",
        "Of course the model identifies the query image as the closest nearest neighbor to itself. <br>\n",
        "That's why we asked for 11 nearest neigbhbors when really we wanted 10!"
      ]
    },
    {
      "cell_type": "code",
      "metadata": {
        "colab": {
          "base_uri": "https://localhost:8080/"
        },
        "id": "G98GSzNPHt8h",
        "outputId": "3273b0af-b7b4-42a6-e09a-9a0541d318d3"
      },
      "source": [
        "neigh_ind"
      ],
      "execution_count": 37,
      "outputs": [
        {
          "output_type": "execute_result",
          "data": {
            "text/plain": [
              "array([[   42, 68958, 19991, 41273, 25712, 28378, 29604, 40319, 45277,\n",
              "        35949, 39643]])"
            ]
          },
          "metadata": {},
          "execution_count": 37
        }
      ]
    },
    {
      "cell_type": "markdown",
      "metadata": {
        "id": "CkHN8An66cCq"
      },
      "source": [
        "### 4. How did our model perform?\n",
        "Let's check!<br>\n",
        "Not bad!<br>\n",
        "With codings of 32 pixels -- a compression factor of about 25 -- <br>\n",
        "our model performed well when asked for images of the same class as the query image!"
      ]
    },
    {
      "cell_type": "code",
      "metadata": {
        "id": "5IOcG3pTlK01",
        "colab": {
          "base_uri": "https://localhost:8080/",
          "height": 1000
        },
        "outputId": "15f29f19-0241-4f1e-c5c7-f9d5ce498720"
      },
      "source": [
        "%%time\n",
        "count = 0\n",
        "for nearest_neigh_index in neigh_ind[0][1:]:\n",
        "  plt.figure()\n",
        "  plt.imshow(x_train[nearest_neigh_index])\n",
        "  plt.title(f'Image {count}: {class_names[y_train[nearest_neigh_index]]}')\n",
        "  count+=1"
      ],
      "execution_count": 38,
      "outputs": [
        {
          "output_type": "stream",
          "name": "stdout",
          "text": [
            "CPU times: user 160 ms, sys: 3.84 ms, total: 164 ms\n",
            "Wall time: 161 ms\n"
          ]
        },
        {
          "output_type": "display_data",
          "data": {
            "text/plain": [
              "<Figure size 640x480 with 1 Axes>"
            ],
            "image/png": "[encoded data removed]"
          },
          "metadata": {}
        },
        {
          "output_type": "display_data",
          "data": {
            "text/plain": [
              "<Figure size 640x480 with 1 Axes>"
            ],
            "image/png": "[encoded data removed]"
          },
          "metadata": {}
        },
        {
          "output_type": "display_data",
          "data": {
            "text/plain": [
              "<Figure size 640x480 with 1 Axes>"
            ],
            "image/png": "[encoded data removed]"
          },
          "metadata": {}
        },
        {
          "output_type": "display_data",
          "data": {
            "text/plain": [
              "<Figure size 640x480 with 1 Axes>"
            ],
            "image/png": "[encoded data removed]"
          },
          "metadata": {}
        },
        {
          "output_type": "display_data",
          "data": {
            "text/plain": [
              "<Figure size 640x480 with 1 Axes>"
            ],
            "image/png": "[encoded data removed]"
          },
          "metadata": {}
        },
        {
          "output_type": "display_data",
          "data": {
            "text/plain": [
              "<Figure size 640x480 with 1 Axes>"
            ],
            "image/png": "[encoded data removed]"
          },
          "metadata": {}
        },
        {
          "output_type": "display_data",
          "data": {
            "text/plain": [
              "<Figure size 640x480 with 1 Axes>"
            ],
            "image/png": "[encoded data removed]"
          },
          "metadata": {}
        },
        {
          "output_type": "display_data",
          "data": {
            "text/plain": [
              "<Figure size 640x480 with 1 Axes>"
            ],
            "image/png": "[encoded data removed]"
          },
          "metadata": {}
        },
        {
          "output_type": "display_data",
          "data": {
            "text/plain": [
              "<Figure size 640x480 with 1 Axes>"
            ],
            "image/png": "[encoded data removed]"
          },
          "metadata": {}
        },
        {
          "output_type": "display_data",
          "data": {
            "text/plain": [
              "<Figure size 640x480 with 1 Axes>"
            ],
            "image/png": "[encoded data removed]"
          },
          "metadata": {}
        }
      ]
    },
    {
      "cell_type": "markdown",
      "metadata": {
        "id": "uTbKqbEHcXc6"
      },
      "source": [
        "## Challenge\n",
        "\n",
        "You should already be familiar with KNN and similarity queries, so the key component of this section is know which part of the autoencoder (the encoder) to use to extract features from your data. "
      ]
    },
    {
      "cell_type": "markdown",
      "metadata": {
        "id": "6667UUvQcXc6"
      },
      "source": [
        "# Review\n",
        "\n",
        "* <a href=\"#p1\">Part 1</a>: Describe the components of an autoencoder\n",
        "    - Encoder\n",
        "    - Decoder\n",
        "    - Codings\n",
        "* <a href=\"#p2\">Part 2</a>: Train an autoencoder to do image compression and reconstruction\n",
        "    - Can do this easily in Keras\n",
        "    - Can use a variety of architectures\n",
        "    - Architectures must follow hourglass shape\n",
        "* <a href=\"#p3\">Part 3</a>: Apply an autoencoder to a basic information retrieval problem\n",
        "    - Extract just the encoder to use for various tasks\n",
        "    - AutoEncoders are used for dimensionality reduction, reverse image search, and many more applications. \n"
      ]
    },
    {
      "cell_type": "markdown",
      "metadata": {
        "id": "HZWiQPsfcXc7"
      },
      "source": [
        "# Sources\n",
        "\n",
        "__References__\n",
        "- [Building Autoencoders in Keras](https://blog.keras.io/building-autoencoders-in-keras.html)\n",
        "- [Deep Learning Cookbook](http://shop.oreilly.com/product/0636920097471.do)\n",
        "\n",
        "__Additional Material__<br>\n",
        "- [AI Summer -- autoencoder resources](https://theaisummer.com/search/?s=autoencoders)"
      ]
    }
  ]
}